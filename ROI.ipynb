{
 "cells": [
  {
   "cell_type": "code",
   "execution_count": 1,
   "id": "0583cd5b",
   "metadata": {},
   "outputs": [
    {
     "name": "stdout",
     "output_type": "stream",
     "text": [
      "What was the purchase price of the property? 400000\n",
      "What is the monthly rental income? 3000\n",
      "What are the monthly operating expenses? 2210\n",
      "What is the total investment? 75000\n",
      "The ROI for the rental property is 12.64%.\n"
     ]
    }
   ],
   "source": [
    "# Asking for input from user\n",
    "purchase_price = float(input(\"What was the purchase price of the property? \"))\n",
    "rental_income = float(input(\"What is the monthly rental income? \"))\n",
    "operating_expenses = float(input(\"What are the monthly operating expenses? \"))\n",
    "total_investment = float(input(\"What is the total investment? \"))\n",
    "\n",
    "# Calculating ROI\n",
    "cashflow = rental_income - operating_expenses\n",
    "annual_cashflow = cashflow * 12\n",
    "cash_on_cash_roi = float(annual_cashflow / total_investment)\n",
    "\n",
    "print(f\"The ROI for the rental property is {cash_on_cash_roi * 100}%.\")"
   ]
  },
  {
   "cell_type": "code",
   "execution_count": null,
   "id": "869f4ea2",
   "metadata": {},
   "outputs": [],
   "source": []
  }
 ],
 "metadata": {
  "kernelspec": {
   "display_name": "Python 3 (ipykernel)",
   "language": "python",
   "name": "python3"
  },
  "language_info": {
   "codemirror_mode": {
    "name": "ipython",
    "version": 3
   },
   "file_extension": ".py",
   "mimetype": "text/x-python",
   "name": "python",
   "nbconvert_exporter": "python",
   "pygments_lexer": "ipython3",
   "version": "3.10.9"
  }
 },
 "nbformat": 4,
 "nbformat_minor": 5
}
