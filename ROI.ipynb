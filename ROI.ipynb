{
 "cells": [
  {
   "cell_type": "code",
   "execution_count": 1,
   "id": "cb033f75",
   "metadata": {},
   "outputs": [
    {
     "name": "stdout",
     "output_type": "stream",
     "text": [
      "Cash on Cash ROI: 9.36%\n"
     ]
    }
   ],
   "source": [
    "class RentalProperty:\n",
    "    def __init__(self, property_value, rental_income, laundry_income, storage_income, misc_income,\n",
    "                 taxes, insurance, utilities, hoa, lawn_snow, vacancy, repairs, capex, property_management, mortgage):\n",
    "        self.property_value = property_value\n",
    "        self.rental_income = rental_income\n",
    "        self.laundry_income = laundry_income\n",
    "        self.storage_income = storage_income\n",
    "        self.misc_income = misc_income\n",
    "        self.taxes = taxes\n",
    "        self.insurance = insurance\n",
    "        self.utilities = utilities\n",
    "        self.hoa = hoa\n",
    "        self.lawn_snow = lawn_snow\n",
    "        self.vacancy = vacancy\n",
    "        self.repairs = repairs\n",
    "        self.capex = capex\n",
    "        self.property_management = property_management\n",
    "        self.mortgage = mortgage\n",
    "\n",
    "    def calculate_cashflow(self):\n",
    "        total_income = self.rental_income + self.laundry_income + self.storage_income + self.misc_income\n",
    "        total_expenses = self.taxes + self.insurance + self.utilities + self.hoa + self.lawn_snow + \\\n",
    "                         self.vacancy + self.repairs + self.capex + self.property_management + self.mortgage\n",
    "        return total_income - total_expenses\n",
    "\n",
    "    def calculate_cash_on_cash_roi(self, down_payment, closing_costs, rehab_budget, misc_other):\n",
    "        total_investment = down_payment + closing_costs + rehab_budget + misc_other\n",
    "        cashflow = self.calculate_cashflow()\n",
    "        return cashflow * 12 / total_investment * 100\n",
    "\n",
    "\n",
    "# example usage\n",
    "property_value = 200000\n",
    "rental_income = 2000\n",
    "laundry_income = 0\n",
    "storage_income = 0\n",
    "misc_income = 0\n",
    "taxes = 150\n",
    "insurance = 100\n",
    "utilities = 0\n",
    "hoa = 0\n",
    "lawn_snow = 0\n",
    "vacancy = 100\n",
    "repairs = 100\n",
    "capex = 100\n",
    "property_management = 200\n",
    "mortgage = 860\n",
    "\n",
    "rental_property = RentalProperty(property_value, rental_income, laundry_income, storage_income, misc_income,\n",
    "                                 taxes, insurance, utilities, hoa, lawn_snow, vacancy, repairs, capex,\n",
    "                                 property_management, mortgage)\n",
    "\n",
    "cash_on_cash_roi = rental_property.calculate_cash_on_cash_roi(40000, 3000, 7000, 0)\n",
    "print(f\"Cash on Cash ROI: {cash_on_cash_roi:.2f}%\")\n"
   ]
  },
  {
   "cell_type": "code",
   "execution_count": null,
   "id": "d9cf46e8",
   "metadata": {},
   "outputs": [],
   "source": []
  }
 ],
 "metadata": {
  "kernelspec": {
   "display_name": "Python 3 (ipykernel)",
   "language": "python",
   "name": "python3"
  },
  "language_info": {
   "codemirror_mode": {
    "name": "ipython",
    "version": 3
   },
   "file_extension": ".py",
   "mimetype": "text/x-python",
   "name": "python",
   "nbconvert_exporter": "python",
   "pygments_lexer": "ipython3",
   "version": "3.10.9"
  }
 },
 "nbformat": 4,
 "nbformat_minor": 5
}
